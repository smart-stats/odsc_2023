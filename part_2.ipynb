{
 "cells": [
  {
   "cell_type": "markdown",
   "id": "ce9a8fb5-28e7-4208-8cf9-4fac7f7e8c0c",
   "metadata": {
    "slideshow": {
     "slide_type": "slide"
    },
    "tags": []
   },
   "source": [
    "# Statistics for data science and measurement\n",
    "## Babak Moghadas 1 and Brian Caffo 1, 2\n",
    "### 1 Department of Biostatistics \n",
    "### 2 Department of Biomedical Engineering\n",
    "### Bloomberg School of Public Health\n",
    "### Johns Hopkins University"
   ]
  },
  {
   "cell_type": "markdown",
   "id": "22939764-1cbc-4b48-9334-1e1941195a3f",
   "metadata": {
    "slideshow": {
     "slide_type": "subslide"
    },
    "tags": []
   },
   "source": [
    "## About these slides\n",
    "\n",
    "+ Goal is the least that you need to know\n",
    "+ All slides are created in Jupyter notebooks - free to use and open source\n",
    "+ [Github repo](https://github.com/smart-stats/odsc_2023)\n",
    "+ [pyglide](https://pypi.org/project/pyglide/) provides the interactivity"
   ]
  },
  {
   "cell_type": "markdown",
   "id": "8e2c0e5b-9e66-4587-aab6-b5e93cd6ac85",
   "metadata": {
    "slideshow": {
     "slide_type": "slide"
    },
    "tags": []
   },
   "source": [
    "## Part 2 Measurement"
   ]
  },
  {
   "cell_type": "markdown",
   "id": "33bfc9a1-afa8-4a30-bfbd-8a193bdebd32",
   "metadata": {
    "slideshow": {
     "slide_type": "subslide"
    },
    "tags": []
   },
   "source": [
    "### Measurement\n",
    "\n",
    "+ Key principle: repeatability - if you measure a subject twice do you get the same value\n",
    "+ Key principle in measuring repeatability: compare intra-subject variation to inter-subject variation\n",
    "+ Repeatability is relatively easy to measure, since we can take technical replicates\n",
    "+ Repeatability does not measure validity, the extent to which a measure actually measures what it's reported to"
   ]
  },
  {
   "cell_type": "code",
   "execution_count": null,
   "id": "e70740f1-8030-44e6-bd29-15fac3ea57d2",
   "metadata": {
    "slideshow": {
     "slide_type": "subslide"
    },
    "tags": []
   },
   "outputs": [],
   "source": [
    "## Code used to generate figures\n",
    "import part2_code"
   ]
  },
  {
   "cell_type": "markdown",
   "id": "2333d722-caa1-4f7f-bb2c-347e045062e3",
   "metadata": {
    "slideshow": {
     "slide_type": "subslide"
    },
    "tags": []
   },
   "source": [
    "#### Low inter-subject variability to intra-subject variability"
   ]
  },
  {
   "cell_type": "code",
   "execution_count": 2,
   "id": "65959f10-4974-471f-9587-c70ebc9c0cd9",
   "metadata": {
    "tags": []
   },
   "outputs": [
    {
     "data": {
      "image/png": "[encoded data removed]",
      "text/plain": [
       "<Figure size 432x288 with 1 Axes>"
      ]
     },
     "metadata": {},
     "output_type": "display_data"
    }
   ],
   "source": [
    "part2_code.measurement1()"
   ]
  },
  {
   "cell_type": "markdown",
   "id": "25147b11-b725-4c11-aab0-17a469df3fa8",
   "metadata": {
    "slideshow": {
     "slide_type": "subslide"
    },
    "tags": []
   },
   "source": [
    "#### High inter-subject variability to intra-subject variability"
   ]
  },
  {
   "cell_type": "code",
   "execution_count": 3,
   "id": "c4d7acd3-8e0b-46e2-8dad-02fb8362f419",
   "metadata": {
    "tags": []
   },
   "outputs": [
    {
     "data": {
      "image/png": "[encoded data removed]",
      "text/plain": [
       "<Figure size 432x288 with 1 Axes>"
      ]
     },
     "metadata": {},
     "output_type": "display_data"
    }
   ],
   "source": [
    "part2_code.measurement2()"
   ]
  },
  {
   "cell_type": "markdown",
   "id": "1ffa6671-62ad-4a63-8c52-f405ec131d0c",
   "metadata": {
    "slideshow": {
     "slide_type": "subslide"
    },
    "tags": []
   },
   "source": [
    "### ICC\n",
    "+ The intra-class correlation coefficient is a measure of repeatability\n",
    "$$ \n",
    "ICC = \\frac{Inter}{Total} = \\frac{Inter}{Inter + Intra}\n",
    "$$\n",
    "+ ICC is the proportion of the total variability that is inter-subject\n",
    "+ Note the inter-subject varability is dependent on the sample characteristics\n",
    "   + Suppose older subjects tend to have higher mean values\n",
    "   + A sample of older and younger subjects will have more inter-subject variability than one of just older subjects or just younger subjects alone"
   ]
  },
  {
   "cell_type": "markdown",
   "id": "da54dc38-003a-4ac3-839e-f2f79dd8be92",
   "metadata": {
    "slideshow": {
     "slide_type": "subslide"
    },
    "tags": []
   },
   "source": [
    "#### Estimation\n",
    "\n",
    "+ Usually estimation follows by random effect models; we'll show the basics\n",
    "\n",
    "$$\n",
    "Y_{ij} = U_i + \\epsilon_{ij}\n",
    "$$\n",
    "\n",
    "+ $i$ = subject; $j$ = measurement within subject (assume $j=1,2$)\n",
    "+ $U_i$ is the effect of subject $i$; variation in $U_i$ is inter-subject variation, $\\sigma^2_u$\n",
    "+ $\\epsilon_{ij}$ is the error; variation in $\\epsilon_{ij}$ is intra-subject variation, $\\sigma^2$"
   ]
  },
  {
   "cell_type": "markdown",
   "id": "e736527c-0d07-4bdc-b376-0d6775a018a9",
   "metadata": {
    "slideshow": {
     "slide_type": "subslide"
    },
    "tags": []
   },
   "source": [
    "#### Estimation continued\n",
    "+ Notice that: \n",
    "   $$Y_{i2} - Y_{i1} = \\epsilon_{i2} - \\epsilon_{i1}$$\n",
    "+ Implying\n",
    "   $$Var(Y_{i2} - Y_{i1}) = 2\\sigma^2$$\n",
    "+ And also that: \n",
    "   $$\\frac{1}{2}(Y_{i2} + Y_{i1}) = U_i + \\frac{1}{2}(\\epsilon_{i2} + \\epsilon_{i1})$$\n",
    "+ Implying\n",
    "   $$Var\\left[\\frac{1}{2}(Y_{i2} + Y_{i1})\\right] = \\sigma_u^2 + \\frac{\\sigma^2}{2}$$"
   ]
  },
  {
   "cell_type": "markdown",
   "id": "9e425ab7-a727-4b9e-8748-a8c2065d0b87",
   "metadata": {
    "slideshow": {
     "slide_type": "subslide"
    },
    "tags": []
   },
   "source": [
    "#### Estimation continued\n",
    "\n",
    "+ So we can get: \n",
    "    $$\\frac{1}{2} Var(Y_{i2} - Y_{i1}) = \\sigma^2$$\n",
    "+ And : \n",
    "    $$Var\\left[(\\frac{1}{2}(Y_{i2} + Y_{i1})\\right] - \\frac{\\sigma^2}{2} = \\sigma^2_u$$"
   ]
  },
  {
   "cell_type": "code",
   "execution_count": 17,
   "id": "60d7e651-b116-477d-b626-af649741be74",
   "metadata": {
    "slideshow": {
     "slide_type": "subslide"
    },
    "tags": []
   },
   "outputs": [
    {
     "data": {
      "text/html": [
       "<div>\n",
       "<style scoped>\n",
       "    .dataframe tbody tr th:only-of-type {\n",
       "        vertical-align: middle;\n",
       "    }\n",
       "\n",
       "    .dataframe tbody tr th {\n",
       "        vertical-align: top;\n",
       "    }\n",
       "\n",
       "    .dataframe thead th {\n",
       "        text-align: right;\n",
       "    }\n",
       "</style>\n",
       "<table border=\"1\" class=\"dataframe\">\n",
       "  <thead>\n",
       "    <tr style=\"text-align: right;\">\n",
       "      <th>roi</th>\n",
       "      <th>CSF</th>\n",
       "      <th>Diencephalon_L</th>\n",
       "      <th>Diencephalon_R</th>\n",
       "      <th>Mesencephalon</th>\n",
       "      <th>Metencephalon</th>\n",
       "      <th>Myelencephalon</th>\n",
       "      <th>Telencephalon_L</th>\n",
       "      <th>Telencephalon_R</th>\n",
       "    </tr>\n",
       "    <tr>\n",
       "      <th>id</th>\n",
       "      <th></th>\n",
       "      <th></th>\n",
       "      <th></th>\n",
       "      <th></th>\n",
       "      <th></th>\n",
       "      <th></th>\n",
       "      <th></th>\n",
       "      <th></th>\n",
       "    </tr>\n",
       "  </thead>\n",
       "  <tbody>\n",
       "    <tr>\n",
       "      <th>127</th>\n",
       "      <td>109776</td>\n",
       "      <td>9683</td>\n",
       "      <td>9678</td>\n",
       "      <td>10268</td>\n",
       "      <td>159402</td>\n",
       "      <td>4973</td>\n",
       "      <td>531111</td>\n",
       "      <td>543404</td>\n",
       "    </tr>\n",
       "    <tr>\n",
       "      <th>142</th>\n",
       "      <td>107334</td>\n",
       "      <td>9156</td>\n",
       "      <td>9071</td>\n",
       "      <td>10516</td>\n",
       "      <td>165803</td>\n",
       "      <td>4912</td>\n",
       "      <td>545603</td>\n",
       "      <td>552216</td>\n",
       "    </tr>\n",
       "    <tr>\n",
       "      <th>239</th>\n",
       "      <td>94254</td>\n",
       "      <td>8937</td>\n",
       "      <td>9004</td>\n",
       "      <td>9070</td>\n",
       "      <td>124504</td>\n",
       "      <td>4023</td>\n",
       "      <td>483107</td>\n",
       "      <td>490805</td>\n",
       "    </tr>\n",
       "    <tr>\n",
       "      <th>346</th>\n",
       "      <td>67156</td>\n",
       "      <td>8828</td>\n",
       "      <td>8933</td>\n",
       "      <td>9788</td>\n",
       "      <td>135090</td>\n",
       "      <td>4428</td>\n",
       "      <td>558849</td>\n",
       "      <td>568830</td>\n",
       "    </tr>\n",
       "  </tbody>\n",
       "</table>\n",
       "</div>"
      ],
      "text/plain": [
       "roi     CSF  Diencephalon_L  Diencephalon_R  Mesencephalon  Metencephalon  \\\n",
       "id                                                                          \n",
       "127  109776            9683            9678          10268         159402   \n",
       "142  107334            9156            9071          10516         165803   \n",
       "239   94254            8937            9004           9070         124504   \n",
       "346   67156            8828            8933           9788         135090   \n",
       "\n",
       "roi  Myelencephalon  Telencephalon_L  Telencephalon_R  \n",
       "id                                                     \n",
       "127            4973           531111           543404  \n",
       "142            4912           545603           552216  \n",
       "239            4023           483107           490805  \n",
       "346            4428           558849           568830  "
      ]
     },
     "execution_count": 17,
     "metadata": {},
     "output_type": "execute_result"
    }
   ],
   "source": [
    "##### Numerical example\n",
    "import pandas as pd\n",
    "import numpy as np\n",
    "import seaborn as sns\n",
    "import matplotlib.pyplot as plt\n",
    "\n",
    "df = pd.read_csv(\"https://raw.githubusercontent.com/bcaffo/ds4bme_intro/master/data/kirby21.csv\")\n",
    "df = df.drop(['Unnamed: 0', 'rawid', 'min', 'max', 'mean', 'std'],axis = 1)\n",
    "df = df.loc[(df['type'] == 1) & (df['level'] == 1)]\n",
    "df = df.pivot(index = 'id', columns = 'roi', values = 'volume')\n",
    "df\n",
    "df.head(4)"
   ]
  },
  {
   "cell_type": "code",
   "execution_count": 19,
   "id": "0c5d6e3c-26a3-4f54-b455-b279d7f50e50",
   "metadata": {
    "slideshow": {
     "slide_type": "subslide"
    },
    "tags": []
   },
   "outputs": [
    {
     "data": {
      "image/png": "[encoded data removed]",
      "text/plain": [
       "<Figure size 432x288 with 1 Axes>"
      ]
     },
     "metadata": {
      "needs_background": "light"
     },
     "output_type": "display_data"
    }
   ],
   "source": [
    "sns.scatterplot(x = 'Telencephalon_L', y = 'Telencephalon_R', data = df)\n",
    "plt.xticks(rotation = 90);"
   ]
  },
  {
   "cell_type": "code",
   "execution_count": 43,
   "id": "2aa5a6f5-3284-4701-ad7f-b7a15168df66",
   "metadata": {
    "slideshow": {
     "slide_type": "subslide"
    },
    "tags": []
   },
   "outputs": [
    {
     "name": "stdout",
     "output_type": "stream",
     "text": [
      "98.94017974562621\n"
     ]
    }
   ],
   "source": [
    "sigmasq = np.var(df['Telencephalon_L'] - df['Telencephalon_R'])\n",
    "sigmausq = np.var(0.5 * df['Telencephalon_L'] + 0.5 * df['Telencephalon_L']) - sigmasq / 2\n",
    "print(sigmausq / (sigmasq + sigmausq) * 100)"
   ]
  },
  {
   "cell_type": "markdown",
   "id": "8fee62cd-6c9c-4c21-ae82-fdeba013556e",
   "metadata": {
    "slideshow": {
     "slide_type": "subslide"
    },
    "tags": []
   },
   "source": [
    "#### Notes\n",
    "+ This is not how one typically estimates ICC anymore; mixed models are typically used\n",
    "+ The subtraction can result in a negative variance estimate"
   ]
  },
  {
   "cell_type": "markdown",
   "id": "010c8d6b-2818-46f4-ae62-8a907af83b09",
   "metadata": {
    "slideshow": {
     "slide_type": "slide"
    },
    "tags": []
   },
   "source": [
    "#### Example of repeatability studies\n",
    "+ In functional brain imaging one typically looks at the correlation in activity over time between brain regions\n",
    "+ These sets of correlations estimate how different areas of the brain coordinate\n",
    "+ Finn et al. (Nature Neuroscience 2015) used brain connectivity as a \"fingerprint\"\n",
    "  + They took pairs of measurements for subjects and found which measurements were the closest\n",
    "  + The count of the number of instances where a subject matched to themselves is a repeatability \n",
    "    metric. They called it the \"functional connectome fingerprint\""
   ]
  },
  {
   "cell_type": "markdown",
   "id": "c920d596-4741-4fa0-85d9-a5cda03e131e",
   "metadata": {
    "slideshow": {
     "slide_type": "subslide"
    },
    "tags": []
   },
   "source": [
    "#### Fun fact\n",
    "+ In 1713 Montmort published his letters with Nicholaus Bernoulli \n",
    "+ In them he demonstrated that under independence, i.e. that fingerprints are being matched only by chance, the number of matches follows what is now called Montmort's matching distribution\n",
    "+ This distribution limits to a Poisson(1)\n",
    "+ Wang (2021, Canadian Journal of Statistics) showed that any reasonable matching strategy also limits to a Poisson(1)\n",
    "+ The convergence is quite fast"
   ]
  },
  {
   "cell_type": "markdown",
   "id": "4db8848f-1453-456d-96b1-2aa708d7c12e",
   "metadata": {
    "slideshow": {
     "slide_type": "subslide"
    },
    "tags": []
   },
   "source": [
    "![Picture of Montmort](assets/Montmort.jpeg)\n",
    "\n",
    "[Coutesy of MacTutor](https://mathshistory.st-andrews.ac.uk/Biographies/Montmort/)"
   ]
  },
  {
   "cell_type": "markdown",
   "id": "430fd4ad-9acd-42e7-b3d8-4cbb328a012f",
   "metadata": {},
   "source": [
    "![twin study](assets/figure_5_twin.png)\n",
    "\n",
    "Courtesy of Wang et al. (2021 Canadian Journal of Statistics)"
   ]
  },
  {
   "cell_type": "markdown",
   "id": "42cbfa66-808b-4c61-a208-db485c64b2c6",
   "metadata": {
    "slideshow": {
     "slide_type": "subslide"
    },
    "tags": []
   },
   "source": [
    "![Brain regions](assets/figure_8.png)\n",
    "\n",
    "Courtesy of Wang et al. (2021 Canadian Journal of Statistics)"
   ]
  },
  {
   "cell_type": "markdown",
   "id": "3cb78530-11bb-4d50-8cf6-6d75eeafac5d",
   "metadata": {
    "slideshow": {
     "slide_type": "slide"
    },
    "tags": []
   },
   "source": [
    "### Validity\n",
    "\n",
    "+ Repeatability is not a measure of validity, that a construct measures what it purports to\n",
    "+ Repeatability is easy to measure, since we can collect technical replicates, observe units over short periods of time and so on\n",
    "+ Validity is often hard because the measurement we'd like to validate is the current best measure of the thing we'd like to estimate!"
   ]
  },
  {
   "cell_type": "markdown",
   "id": "3af3a6ed-0d89-42d1-a01e-5bc5ce3cdc57",
   "metadata": {
    "slideshow": {
     "slide_type": "subslide"
    },
    "tags": []
   },
   "source": [
    "#### Things to try\n",
    "\n",
    "+ In the absence of a measurment gold standard, the statistical proceduer I find most useful is  **Predictive validity**: is the measurement associated with outcomes that it should be?\n",
    "+ Also useful, **concurrent validity** is the measurement correlated with other measures of the target?\n",
    "+ Example: in a poor country where child ages are hard to determine due to poor record keeping an image based DL algorithm is used to estimate age. \n",
    "  + Repeatability - take different pictures of the same subject, do the predicted ages agree?\n",
    "  + Predictive validity - does the estimated age predict developmental milestones at roughly the right time\n",
    "  + Concurrent validity - is the estimated age correlated with height, weight and other measures of size"
   ]
  }
 ],
 "metadata": {
  "kernelspec": {
   "display_name": "Python [conda env:.conda-ds4bio]",
   "language": "python",
   "name": "conda-env-.conda-ds4bio-py"
  },
  "language_info": {
   "codemirror_mode": {
    "name": "ipython",
    "version": 3
   },
   "file_extension": ".py",
   "mimetype": "text/x-python",
   "name": "python",
   "nbconvert_exporter": "python",
   "pygments_lexer": "ipython3",
   "version": "3.10.4"
  }
 },
 "nbformat": 4,
 "nbformat_minor": 5
}
