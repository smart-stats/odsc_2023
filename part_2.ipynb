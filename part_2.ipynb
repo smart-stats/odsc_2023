{
 "cells": [
  {
   "cell_type": "markdown",
   "id": "ce9a8fb5-28e7-4208-8cf9-4fac7f7e8c0c",
   "metadata": {
    "slideshow": {
     "slide_type": "slide"
    },
    "tags": []
   },
   "source": [
    "# Statistics for data science and measurement\n",
    "## Babak Moghadas 1 and Brian Caffo 1, 2\n",
    "### 1 Department of Biostatistics \n",
    "### 2 Department of Biomedical Engineering\n",
    "### Bloomberg School of Public Health\n",
    "### Johns Hopkins University"
   ]
  },
  {
   "cell_type": "markdown",
   "id": "22939764-1cbc-4b48-9334-1e1941195a3f",
   "metadata": {
    "slideshow": {
     "slide_type": "subslide"
    },
    "tags": []
   },
   "source": [
    "## About these slides\n",
    "\n",
    "+ Goal is the least that you need to know\n",
    "+ All slides are created in Jupyter notebooks - free to use and open source\n",
    "+ [Github repo](https://github.com/smart-stats/odsc_2023)\n",
    "+ [pyglide](https://pypi.org/project/pyglide/) provides the interactivity"
   ]
  },
  {
   "cell_type": "markdown",
   "id": "8e2c0e5b-9e66-4587-aab6-b5e93cd6ac85",
   "metadata": {
    "slideshow": {
     "slide_type": "slide"
    },
    "tags": []
   },
   "source": [
    "## Part 2 Measurement"
   ]
  },
  {
   "cell_type": "markdown",
   "id": "33bfc9a1-afa8-4a30-bfbd-8a193bdebd32",
   "metadata": {
    "slideshow": {
     "slide_type": "subslide"
    },
    "tags": []
   },
   "source": [
    "### Measurement\n",
    "\n",
    "+ Key principle: repeatability - if you measure a subject twice do you get the same value\n",
    "+ Key principle in measuring repeatability: compare intra-subject variation to inter-subject variation\n",
    "+ Repeatability is relatively easy to measure, since we can take technical replicates\n",
    "+ Repeatability does not measure validity, the extent to which a measure actually measures what it's reported to"
   ]
  },
  {
   "cell_type": "code",
   "execution_count": 4,
   "id": "e70740f1-8030-44e6-bd29-15fac3ea57d2",
   "metadata": {
    "slideshow": {
     "slide_type": "subslide"
    },
    "tags": []
   },
   "outputs": [],
   "source": [
    "## Code used to generate figures\n",
    "import part2_code"
   ]
  },
  {
   "cell_type": "markdown",
   "id": "2333d722-caa1-4f7f-bb2c-347e045062e3",
   "metadata": {
    "slideshow": {
     "slide_type": "subslide"
    },
    "tags": []
   },
   "source": [
    "#### Low inter-subject variability to intra-subject variability"
   ]
  },
  {
   "cell_type": "code",
   "execution_count": null,
   "id": "65959f10-4974-471f-9587-c70ebc9c0cd9",
   "metadata": {
    "tags": []
   },
   "outputs": [
    {
     "data": {
      "image/png": "[encoded data removed]",
      "text/plain": [
       "<Figure size 432x288 with 1 Axes>"
      ]
     },
     "metadata": {
      "needs_background": "light"
     },
     "output_type": "display_data"
    }
   ],
   "source": [
    "part2_code.measurement1()"
   ]
  },
  {
   "cell_type": "markdown",
   "id": "25147b11-b725-4c11-aab0-17a469df3fa8",
   "metadata": {
    "slideshow": {
     "slide_type": "subslide"
    },
    "tags": []
   },
   "source": [
    "#### High inter-subject variability to intra-subject variability"
   ]
  },
  {
   "cell_type": "code",
   "execution_count": null,
   "id": "c4d7acd3-8e0b-46e2-8dad-02fb8362f419",
   "metadata": {
    "tags": []
   },
   "outputs": [
    {
     "data": {
      "image/png": "[encoded data removed]",
      "text/plain": [
       "<Figure size 432x288 with 1 Axes>"
      ]
     },
     "metadata": {
      "needs_background": "light"
     },
     "output_type": "display_data"
    }
   ],
   "source": [
    "part2_code.measurement2()"
   ]
  },
  {
   "cell_type": "markdown",
   "id": "1ffa6671-62ad-4a63-8c52-f405ec131d0c",
   "metadata": {
    "slideshow": {
     "slide_type": "subslide"
    },
    "tags": []
   },
   "source": [
    "### ICC\n",
    "+ The intra-class correlation coefficient is a measure of repeatability\n",
    "$$ \n",
    "ICC = \\frac{Inter}{Total} = \\frac{Inter}{Inter + Intra}\n",
    "$$\n",
    "+ ICC is the proportion of the total variability that is inter-subject\n",
    "+ Note the inter-subject varability is dependent on the sample characteristics\n",
    "   + Suppose older subjects tend to have higher mean values\n",
    "   + A sample of older and younger subjects will have more inter-subject variability than one of just older subjects or just younger subjects alone"
   ]
  },
  {
   "cell_type": "markdown",
   "id": "da54dc38-003a-4ac3-839e-f2f79dd8be92",
   "metadata": {
    "slideshow": {
     "slide_type": "subslide"
    },
    "tags": []
   },
   "source": [
    "#### Estimation\n",
    "\n",
    "+ Usually estimation follows by random effect models; we'll show the basics\n",
    "\n",
    "$$\n",
    "Y_{ij} = U_i + \\epsilon_{ij}\n",
    "$$\n",
    "\n",
    "+ $i$ = subject; $j$ = measurement within subject (assume $j=1,2$)\n",
    "+ $U_i$ is the effect of subject $i$; variation in $U_i$ is inter-subject variation, $\\sigma^2_u$\n",
    "+ $\\epsilon_{ij}$ is the error; variation in $\\epsilon_{ij}$ is intra-subject variation, $\\sigma^2$"
   ]
  },
  {
   "cell_type": "markdown",
   "id": "e736527c-0d07-4bdc-b376-0d6775a018a9",
   "metadata": {
    "slideshow": {
     "slide_type": "subslide"
    },
    "tags": []
   },
   "source": [
    "#### Estimation continued\n",
    "+ Notice that: \n",
    "   $$Y_{i2} - Y_{i1} = \\epsilon_{i2} - \\epsilon_{i1}$$\n",
    "+ Implying\n",
    "   $$Var(Y_{i2} - Y_{i1}) = 2\\sigma^2$$\n",
    "+ And also that: \n",
    "   $$\\frac{1}{2}(Y_{i2} + Y_{i1}) = U_i + \\frac{1}{2}(\\epsilon_{i2} + \\epsilon_{i1})$$\n",
    "+ Implying\n",
    "   $$Var\\left[\\frac{1}{2}(Y_{i2} + Y_{i1})\\right] = \\sigma_u^2 + \\frac{\\sigma^2}{2}$$"
   ]
  },
  {
   "cell_type": "markdown",
   "id": "9e425ab7-a727-4b9e-8748-a8c2065d0b87",
   "metadata": {
    "slideshow": {
     "slide_type": "subslide"
    },
    "tags": []
   },
   "source": [
    "#### Estimation continued\n",
    "\n",
    "+ So we can get: \n",
    "    $$\\frac{1}{2} Var(Y_{i2} - Y_{i1}) = \\sigma^2$$\n",
    "+ And : \n",
    "    $$Var\\left[(\\frac{1}{2}(Y_{i2} + Y_{i1})\\right] - \\frac{\\sigma^2}{2} = \\sigma^2_u$$"
   ]
  },
  {
   "cell_type": "markdown",
   "id": "fbd64a5c-e756-4bf3-88b4-5a3937d3de5e",
   "metadata": {
    "slideshow": {
     "slide_type": "slide"
    },
    "tags": []
   },
   "source": [
    "#### Example measuring CSF\n",
    "\n",
    "+ Below we show repeated measurements of human brain ventricle size on 20 subjects\n",
    "+ We first show a scatterplot then a so-called Tukey mean/difference plot, also called a Bland/Altman plot"
   ]
  },
  {
   "cell_type": "markdown",
   "id": "395ee14d-f626-4779-b2ff-999507a56d1a",
   "metadata": {
    "slideshow": {
     "slide_type": "subslide"
    },
    "tags": []
   },
   "source": [
    "##### Reading in the data"
   ]
  },
  {
   "cell_type": "code",
   "execution_count": null,
   "id": "6420f3eb-88ea-44f3-81c3-482dedd5b7bb",
   "metadata": {
    "tags": []
   },
   "outputs": [
    {
     "data": {
      "image/png": "[encoded data removed]",
      "text/plain": [
       "<Figure size 432x288 with 1 Axes>"
      ]
     },
     "metadata": {
      "needs_background": "light"
     },
     "output_type": "display_data"
    }
   ],
   "source": [
    "import pandas as pd\n",
    "import matplotlib.pyplot as plt\n",
    "visit1 = pd.read_csv(\"assets/visit1_mricloud.csv\")\n",
    "visit2 = pd.read_csv(\"assets/visit2_mricloud.csv\")\n",
    "\n",
    "csf1 = visit1[(visit1['Type'] == 1) & (visit1['Level'] == 1) \n",
    "              & (visit1['Object'] == 'CSF')]['Volume']\n",
    "csf2 = visit2[(visit2['Type'] == 1) & (visit2['Level'] == 1) \n",
    "              & (visit2['Object'] == 'CSF')]['Volume']\n",
    "plt.scatter(csf1, csf2);\n"
   ]
  },
  {
   "cell_type": "code",
   "execution_count": null,
   "id": "3904d916-9202-421b-bd22-63216d8e7dd9",
   "metadata": {
    "slideshow": {
     "slide_type": "subslide"
    },
    "tags": []
   },
   "outputs": [
    {
     "data": {
      "image/png": "[encoded data removed]",
      "text/plain": [
       "<Figure size 432x288 with 1 Axes>"
      ]
     },
     "metadata": {
      "needs_background": "light"
     },
     "output_type": "display_data"
    }
   ],
   "source": [
    "import statsmodels.api as sm\n",
    "sm.graphics.mean_diff_plot(csf1, csf2)\n",
    "plt.show()"
   ]
  },
  {
   "cell_type": "code",
   "execution_count": null,
   "id": "8826eba7-4724-4835-926b-55ee083b35e3",
   "metadata": {
    "slideshow": {
     "slide_type": "subslide"
    },
    "tags": []
   },
   "outputs": [
    {
     "data": {
      "image/png": "[encoded data removed]",
      "text/plain": [
       "<Figure size 432x288 with 1 Axes>"
      ]
     },
     "metadata": {
      "needs_background": "light"
     },
     "output_type": "display_data"
    }
   ],
   "source": [
    "import numpy as np\n",
    "sm.graphics.mean_diff_plot(np.log(csf1), np.log(csf2))\n",
    "plt.show()"
   ]
  },
  {
   "cell_type": "code",
   "execution_count": null,
   "id": "1765a8c6-1c50-41e7-a961-2f0e53fcbea4",
   "metadata": {
    "slideshow": {
     "slide_type": "subslide"
    },
    "tags": []
   },
   "outputs": [
    {
     "name": "stdout",
     "output_type": "stream",
     "text": [
      "98.84502763511378\n"
     ]
    }
   ],
   "source": [
    "## Calculating the ICC manually\n",
    "sigmasq = np.var(np.log(csf1) - np.log(csf2))\n",
    "sigmausq = np.var(0.5 * np.log(csf1) + 0.5 * np.log(csf2)) - sigmasq/2\n",
    "print(100 * sigmausq / (sigmausq + sigmasq))"
   ]
  },
  {
   "cell_type": "markdown",
   "id": "8fee62cd-6c9c-4c21-ae82-fdeba013556e",
   "metadata": {
    "slideshow": {
     "slide_type": "subslide"
    },
    "tags": []
   },
   "source": [
    "#### Notes\n",
    "+ This is not how one typically estimates ICC anymore; mixed models are typically used\n",
    "+ The subtraction can result in a negative variance estimate"
   ]
  },
  {
   "cell_type": "code",
   "execution_count": null,
   "id": "9ca5d219-6228-4bb2-a2ac-df73bf908aba",
   "metadata": {
    "slideshow": {
     "slide_type": "subslide"
    },
    "tags": []
   },
   "outputs": [
    {
     "data": {
      "text/html": [
       "<table class=\"simpletable\">\n",
       "<tr>\n",
       "       <td>Model:</td>       <td>MixedLM</td> <td>Dependent Variable:</td> <td>logvolume</td>\n",
       "</tr>\n",
       "<tr>\n",
       "  <td>No. Observations:</td>   <td>38</td>          <td>Method:</td>         <td>REML</td>   \n",
       "</tr>\n",
       "<tr>\n",
       "     <td>No. Groups:</td>      <td>19</td>          <td>Scale:</td>         <td>0.0003</td>  \n",
       "</tr>\n",
       "<tr>\n",
       "  <td>Min. group size:</td>     <td>2</td>      <td>Log-Likelihood:</td>    <td>41.9000</td> \n",
       "</tr>\n",
       "<tr>\n",
       "  <td>Max. group size:</td>     <td>2</td>        <td>Converged:</td>         <td>Yes</td>   \n",
       "</tr>\n",
       "<tr>\n",
       "  <td>Mean group size:</td>    <td>2.0</td>            <td></td>               <td></td>     \n",
       "</tr>\n",
       "</table>\n",
       "<table class=\"simpletable\">\n",
       "<tr>\n",
       "      <td></td>       <th>Coef.</th> <th>Std.Err.</th>    <th>z</th>    <th>P>|z|</th> <th>[0.025</th> <th>0.975]</th>\n",
       "</tr>\n",
       "<tr>\n",
       "  <th>Intercept</th> <td>11.345</td>   <td>0.055</td>  <td>207.545</td> <td>0.000</td> <td>11.237</td> <td>11.452</td>\n",
       "</tr>\n",
       "<tr>\n",
       "  <th>Group Var</th>  <td>0.057</td>   <td>1.491</td>     <td></td>       <td></td>       <td></td>       <td></td>   \n",
       "</tr>\n",
       "</table>"
      ],
      "text/plain": [
       "<class 'statsmodels.iolib.summary2.Summary'>\n",
       "\"\"\"\n",
       "         Mixed Linear Model Regression Results\n",
       "=======================================================\n",
       "Model:            MixedLM Dependent Variable: logvolume\n",
       "No. Observations: 38      Method:             REML     \n",
       "No. Groups:       19      Scale:              0.0003   \n",
       "Min. group size:  2       Log-Likelihood:     41.9000  \n",
       "Max. group size:  2       Converged:          Yes      \n",
       "Mean group size:  2.0                                  \n",
       "-------------------------------------------------------\n",
       "            Coef.  Std.Err.    z    P>|z| [0.025 0.975]\n",
       "-------------------------------------------------------\n",
       "Intercept   11.345    0.055 207.545 0.000 11.237 11.452\n",
       "Group Var    0.057    1.491                            \n",
       "=======================================================\n",
       "\n",
       "\"\"\""
      ]
     },
     "execution_count": 20,
     "metadata": {},
     "output_type": "execute_result"
    }
   ],
   "source": [
    "#### Fitting the random effect model\n",
    "import pingouin as pg\n",
    "import statsmodels.formula.api as smf\n",
    "\n",
    "csfdf1 = visit1[(visit1['Type'] == 1) & (visit1['Level'] == 1) \n",
    "                & (visit1['Object'] == 'CSF')]\n",
    "csfdf2 = visit2[(visit2['Type'] == 1) & (visit2['Level'] == 1) \n",
    "                & (visit2['Object'] == 'CSF')]\n",
    "\n",
    "csfdf = pd.concat( [csfdf1, csfdf2] )\n",
    "csfdf['logvolume'] = np.log(csfdf['Volume'])\n",
    "md = smf.mixedlm(\"logvolume ~ 1\", csfdf, groups=csfdf[\"ID\"]).fit()\n",
    "md.summary()"
   ]
  },
  {
   "cell_type": "markdown",
   "id": "e5ec9144",
   "metadata": {
    "slideshow": {
     "slide_type": "subslide"
    }
   },
   "source": [
    "##### Example\n",
    "Calculation of ICC in the same example using the mixedlm function.\n",
    "<div><!--Course_Code--></div>\n"
   ]
  },
  {
   "cell_type": "markdown",
   "id": "010c8d6b-2818-46f4-ae62-8a907af83b09",
   "metadata": {
    "slideshow": {
     "slide_type": "slide"
    },
    "tags": []
   },
   "source": [
    "#### Example of repeatability studies\n",
    "+ In functional brain imaging one typically looks at the correlation in activity over time between brain regions\n",
    "+ These sets of correlations estimate how different areas of the brain coordinate\n",
    "+ Finn et al. (Nature Neuroscience 2015) used brain connectivity as a \"fingerprint\"\n",
    "  + They took pairs of measurements for subjects and found which measurements were the closest\n",
    "  + The count of the number of instances where a subject matched to themselves is a repeatability \n",
    "    metric. They called it the \"functional connectome fingerprint\""
   ]
  },
  {
   "cell_type": "markdown",
   "id": "c920d596-4741-4fa0-85d9-a5cda03e131e",
   "metadata": {
    "slideshow": {
     "slide_type": "subslide"
    },
    "tags": []
   },
   "source": [
    "#### Fun fact\n",
    "+ In 1713 Montmort published his letters with Nicholaus Bernoulli \n",
    "+ In them he demonstrated that under independence, i.e. that fingerprints are being matched only by chance, the number of matches follows what is now called Montmort's matching distribution\n",
    "+ This distribution limits to a Poisson(1)\n",
    "+ Wang (2021, Canadian Journal of Statistics) showed that any reasonable matching strategy also limits to a Poisson(1)\n",
    "+ The convergence is quite fast"
   ]
  },
  {
   "cell_type": "markdown",
   "id": "4db8848f-1453-456d-96b1-2aa708d7c12e",
   "metadata": {
    "slideshow": {
     "slide_type": "subslide"
    },
    "tags": []
   },
   "source": [
    "<img src=\"assets/Montmort.jpeg\" alt=\"Picture of Montmort\"/>\n",
    "\n",
    "[Coutesy of MacTutor](https://mathshistory.st-andrews.ac.uk/Biographies/Montmort/)"
   ]
  },
  {
   "cell_type": "markdown",
   "id": "430fd4ad-9acd-42e7-b3d8-4cbb328a012f",
   "metadata": {
    "slideshow": {
     "slide_type": "subslide"
    }
   },
   "source": [
    "<img src=\"assets/figure_5_twin.png\" alt=\"Figure 5 from Finn et al. (2015)\" width=\"600\"/>\n",
    "\n",
    "Courtesy of Wang et al. (2021 Canadian Journal of Statistics)"
   ]
  },
  {
   "cell_type": "markdown",
   "id": "42cbfa66-808b-4c61-a208-db485c64b2c6",
   "metadata": {
    "slideshow": {
     "slide_type": "subslide"
    },
    "tags": []
   },
   "source": [
    "<img src=\"assets/figure_8.png\" alt=\"Figure 6 from Finn et al. (2015)\" width=\"600\"/>\n",
    "\n",
    "\n",
    "Courtesy of Wang et al. (2021 Canadian Journal of Statistics)"
   ]
  },
  {
   "cell_type": "markdown",
   "id": "3cb78530-11bb-4d50-8cf6-6d75eeafac5d",
   "metadata": {
    "slideshow": {
     "slide_type": "slide"
    },
    "tags": []
   },
   "source": [
    "### Validity\n",
    "\n",
    "+ Repeatability is not a measure of validity, that a construct measures what it purports to\n",
    "+ Repeatability is easy to measure, since we can collect technical replicates, observe units over short periods of time and so on\n",
    "+ Validity is often hard because the measurement we'd like to validate is the current best measure of the thing we'd like to estimate!"
   ]
  },
  {
   "cell_type": "markdown",
   "id": "3af3a6ed-0d89-42d1-a01e-5bc5ce3cdc57",
   "metadata": {
    "slideshow": {
     "slide_type": "subslide"
    },
    "tags": []
   },
   "source": [
    "#### Things to try\n",
    "\n",
    "+ In the absence of a measurment gold standard, the statistical proceduer I find most useful is  **Predictive validity**: is the measurement associated with outcomes that it should be?\n",
    "+ Also useful, **concurrent validity** is the measurement correlated with other measures of the target?\n",
    "+ Example: in a poor country where child ages are hard to determine due to poor record keeping an image based DL algorithm is used to estimate age. \n",
    "  + Repeatability - take different pictures of the same subject, do the predicted ages agree?\n",
    "  + Predictive validity - does the estimated age predict developmental milestones at roughly the right time\n",
    "  + Concurrent validity - is the estimated age correlated with height, weight and other measures of size"
   ]
  }
 ],
 "metadata": {
  "kernelspec": {
   "display_name": "Text2Speech",
   "language": "python",
   "name": "python3"
  },
  "language_info": {
   "codemirror_mode": {
    "name": "ipython",
    "version": 3
   },
   "file_extension": ".py",
   "mimetype": "text/x-python",
   "name": "python",
   "nbconvert_exporter": "python",
   "pygments_lexer": "ipython3",
   "version": "3.11.2"
  }
 },
 "nbformat": 4,
 "nbformat_minor": 5
}
