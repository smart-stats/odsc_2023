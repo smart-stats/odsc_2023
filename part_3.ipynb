{
 "cells": [
  {
   "cell_type": "markdown",
   "id": "80e6d90a-38d8-4a75-9fb9-4637e47ec536",
   "metadata": {
    "slideshow": {
     "slide_type": "slide"
    },
    "tags": []
   },
   "source": [
    "# Statistics for data science and measurement\n",
    "## Babak Moghadas 1 and Brian Caffo 1, 2\n",
    "### 1 Department of Biostatistics \n",
    "### 2 Department of Biomedical Engineering\n",
    "### Bloomberg School of Public Health\n",
    "### Johns Hopkins University"
   ]
  },
  {
   "cell_type": "markdown",
   "id": "ae7dbfc9-a6b9-485b-9396-844dd473d820",
   "metadata": {
    "slideshow": {
     "slide_type": "subslide"
    },
    "tags": []
   },
   "source": [
    "## About these slides\n",
    "\n",
    "+ Goal is the least that you need to know\n",
    "+ All slides are created in Jupyter notebooks - free to use and open source\n",
    "+ [Github repo](https://github.com/smart-stats/odsc_2023)\n",
    "+ [pyglide](https://pypi.org/project/pyglide/) provides the interactivity"
   ]
  },
  {
   "cell_type": "markdown",
   "id": "be399fab-4e3d-46dd-b2ab-5329ccad4fa9",
   "metadata": {
    "slideshow": {
     "slide_type": "slide"
    },
    "tags": []
   },
   "source": [
    "## Part 3 validation of ML algorithms"
   ]
  },
  {
   "cell_type": "markdown",
   "id": "1d839961-ae68-4030-a72f-20dda2a10e16",
   "metadata": {},
   "source": [
    "+ In this component, we'll discuss validating the output of ML algorithms.\n",
    "+ Typically, we split the data into:\n",
    "   + **Training data**: data used to train the model.\n",
    "   + **validation data**: data used to choose hyperparameters, such as layers in a neural network.\n",
    "   + **testing data**: data used only for final evaluation of the model."
   ]
  },
  {
   "cell_type": "markdown",
   "id": "cd3e8e58-b026-4921-b4e0-96c5f96f17ba",
   "metadata": {
    "slideshow": {
     "slide_type": "slide"
    },
    "tags": []
   },
   "source": [
    "### Binary outcomes (two-class classification)\n",
    "\n",
    "Consider the following definitions for the results of a diagnostic test $\\hat Y\\in \\{0,1\\}$, where the\n",
    "actual disease state is $Y\\in \\{0,1\\}$. Assume 1 represents having/testing for the disease.\n"
   ]
  },
  {
   "cell_type": "markdown",
   "id": "3e1aab6d-ec2d-4aab-bd2e-0faec20b06d3",
   "metadata": {
    "slideshow": {
     "slide_type": "subslide"
    },
    "tags": []
   },
   "source": [
    "#### Measures conditional on disease status:\n",
    "1. **Sensitivity** $P(\\hat Y =1 ~|~ Y=1)$, probability that the prediction is positive given the disease is present.\n",
    "   + Also called the true positive rate.  \n",
    "   + $P(\\hat Y =0 ~|~ Y=1)$, one minus the sensitivity, is the false positive or miss rate.\n",
    "   + Also called recall and hit rate\n",
    "2. **Specificity** $P(\\hat Y=0 ~|~ Y=0)$, probability that the prediction is negative given the disease is absent.\n",
    "    + Also called the true negative rate. \n",
    "    + $P(\\hat Y=1~|~ Y=0)$, one minus the specificity is the false negative rate or fall out.\n",
    "    + Also called selectivity."
   ]
  },
  {
   "cell_type": "markdown",
   "id": "6e2233e0-be31-4d47-9a53-9ae735f202e0",
   "metadata": {
    "slideshow": {
     "slide_type": "subslide"
    },
    "tags": []
   },
   "source": [
    "#### Measures conditional on the data\n",
    "\n",
    "3. **PPV**, positive predictive value $P(Y=1 ~|~ \\hat Y=1)$.\n",
    "    + Also called the precision\n",
    "4. **NPV**, negative predictive value $P(Y=0 ~|~ \\hat Y =0)$. "
   ]
  },
  {
   "cell_type": "markdown",
   "id": "47d93968-7ed1-4473-a1d3-a96128b06d2b",
   "metadata": {
    "slideshow": {
     "slide_type": "subslide"
    },
    "tags": []
   },
   "source": [
    "#### Other measures\n",
    "\n",
    "5. **DLR+**, diagnostic likelihood ratio of a positive prediction $P(\\hat Y=1 ~|~ Y=1) / P(\\hat Y=1 ~|~ Y= 0)$ is also the sensitivity over one minus the specificity, i.e. the true positive rate divided by the false positive rate.\n",
    "6. **DLR-**, diagnostic likelihood ratio of a negative prediction $P(\\hat Y=0 ~|~ Y=1) / P(\\hat Y=0 ~|~ Y=0)$ is one minus the sensitivity divided by the specificity or the false negative rate divided by the true negative rate. \n",
    "7. The **disease prevalence** is $P(Y=1)$ (and, generally less discussed, the prediction disease prevalance $P(\\hat Y =1)$.)\n",
    "8. The accuracy is $P(\\hat Y = y) = P(\\hat Y = 1 ~|~ Y = 1) P(Y = 1) + P(\\hat Y = 0 ~|~ Y = 0) P(Y = 0)$, which is the sensitivity times the prevalence plus the specificity times one minus the prevalance.\n"
   ]
  },
  {
   "cell_type": "markdown",
   "id": "8ab3e7b6-93cd-4a83-8a66-2559457558c1",
   "metadata": {
    "slideshow": {
     "slide_type": "subslide"
    },
    "tags": []
   },
   "source": [
    "##### Role of sampling in estimation\n",
    "\n",
    "+ If you have a cross-sectional sample, then all of these quatities are directly estimable. \n",
    "+ If the data were sampled by disease status, or data was augmented to force outcome balance, then $Y$ should be conditioned and the sensitivity, specificity and DLR+/- are directly estimable. \n",
    "    + You can obtain the PPV and NPV using Bayes' rule given a disease prevalance.  \n",
    "+ In a rare setting where the design fixes the prediction result, the NPV and PPV would be directly estimable and one would have to use the prevalance of a positive prediction and Bayes' rule to obtain the sensitivity and specificity. \n",
    "+ Accuracy depends on the prevalence, so imbalance in the outcome categories bounds a reasonable accuracy."
   ]
  },
  {
   "cell_type": "markdown",
   "id": "cdcaadc4-5f0d-4786-9997-17b91fd51654",
   "metadata": {
    "slideshow": {
     "slide_type": "subslide"
    },
    "tags": []
   },
   "source": [
    "### Basic example\n",
    "\n",
    "A study comparing the efficacy of HIV tests, reports on an experiment which concluded that HIV antibody tests have a sensitivity of 99.7% and a specificity of 98.5%. \n",
    "\n",
    "Suppose that a subject, from a population with a .1% prevalence of HIV, receives a positive test result. What is the positive predictive value?\n"
   ]
  },
  {
   "cell_type": "markdown",
   "id": "9dd82c05-4920-419e-a6e3-429dcf6d5154",
   "metadata": {
    "slideshow": {
     "slide_type": "subslide"
    },
    "tags": []
   },
   "source": [
    "+ Mathematically, we want $P(Y=1 | \\hat Y=1)$ \n",
    "+ We have:\n",
    "  + the sensitivity, \n",
    "  $$P(\\hat Y=1 | Y=1) = .997$$\n",
    "  + the specificity, \n",
    "  $$P(\\hat Y=0 | Y=0) =0.985$$\n",
    "  + the prevalence \n",
    "  $$P(Y=1) =0.001$$"
   ]
  },
  {
   "cell_type": "markdown",
   "id": "8f3b6efa-068e-471f-99fd-a2401c2770a7",
   "metadata": {
    "slideshow": {
     "slide_type": "subslide"
    },
    "tags": []
   },
   "source": [
    "#### Bayes's rule\n",
    "$$\n",
    "\\begin{align*} \n",
    "\\small P(Y=1 ~|~ \\hat Y =1) & = \\frac{\\small P(\\hat Y =1 ~|~ Y=1)\\small P(Y=1)}{\\small P(\\hat Y=1~|~Y=1)\\small P(Y=1) + \\small P(\\hat Y=1 ~|~ Y=0)\\small P(Y=0)}\\\\\n",
    "               & = \\frac{\\small P(\\hat Y=1|Y=1)\\small P(Y=1)}{\\small P(\\hat Y=1|Y=1)\\small P(Y=1) + (1 - \\small P(\\hat Y=0 ~|~ Y = 0))(1 - \\small P(Y=1))} \\\\\n",
    "               & = \\frac{\\small .997\\times .001}{\\small .997 \\times .001 + .015 \\times .999}\\ = \\small .062 \n",
    "\\end{align*}\n",
    " \n",
    "$$\n"
   ]
  },
  {
   "cell_type": "markdown",
   "id": "45c483b3-4026-4409-946a-958dffc537b1",
   "metadata": {
    "slideshow": {
     "slide_type": "subslide"
    },
    "tags": []
   },
   "source": [
    "#### DLR\n",
    "\n",
    "$$\n",
    "P(Y = 1 ~|~ \\hat Y = 1) = \\frac{P(\\hat Y=1~|~ Y = 1)P(Y=1)}{P(\\hat Y=1)} \n",
    "$$\n",
    "\n",
    "and\n",
    "\n",
    "$$ P(Y=0 ~|~ \\hat Y=1) = \\frac{P(\\hat Y=1 ~|~ Y=0)P(Y=0)}{P(\\hat Y=1)}. $$\n",
    "\n",
    "\n",
    "$$ \n",
    "\\frac{P(Y = 1 ~|~ \\hat Y=1)}{P(Y=0 ~|~ \\hat Y=1)} = \\frac{P(\\hat Y = 1 ~|~ Y=1)}{P(\\hat Y = 1 ~|~ Y=0)}\\times \\frac{P(Y=1)}{P(Y=0)} \n",
    "$$\n"
   ]
  },
  {
   "cell_type": "markdown",
   "id": "620b9329-fdf8-4f03-bf61-0d470dee6ad8",
   "metadata": {
    "slideshow": {
     "slide_type": "subslide"
    },
    "tags": []
   },
   "source": [
    "#### DLR continued\n",
    "\n",
    "+ In other words, the post test odds of disease is the pretest odds of disease times the $DLR_+$. \n",
    "+ Similarly, $DLR_-$ relates the decrease in the odds of the disease after a negative test result to the odds of disease prior to the test. \n",
    "+ DLRs are the factors by which you multiply your pretest odds to get your post test odds. "
   ]
  },
  {
   "cell_type": "markdown",
   "id": "3d25c600-a7b8-41ab-9768-795852e6d74c",
   "metadata": {
    "slideshow": {
     "slide_type": "subslide"
    },
    "tags": []
   },
   "source": [
    "#### DLR+ example\n",
    "\n",
    "+ Suppose a subject has a positive HIV test, $DLR_+ = .997 / (1 - .985) = 66$. \n",
    "+ The result of the positive test is that the odds of disease is now 66 times the pretest odds. \n",
    "+ Or, equivalently, the hypothesis of disease is 66 times more supported by the data than the hypothesis of no disease\n"
   ]
  },
  {
   "cell_type": "markdown",
   "id": "bee6b665-f4f7-4d3f-a450-98614b42efe2",
   "metadata": {
    "slideshow": {
     "slide_type": "subslide"
    },
    "tags": []
   },
   "source": [
    "#### DRL- example\n",
    "\n",
    "+ Suppose instead that a subject has a negative test result. \n",
    "+ Then $DLR_- = (1 - .997) / .985 =.003$ \n",
    "+ Therefore, the post-test odds of disease is now 0.3% of the pretest odds given the negative test. \n",
    "+ Or, the hypothesis of disease is supported $.003$ times that of the hypothesis of absence of disease given the negative test result\n"
   ]
  },
  {
   "cell_type": "markdown",
   "id": "5e9c4b06-7d26-48c1-a47d-9aa60880b2d5",
   "metadata": {
    "slideshow": {
     "slide_type": "slide"
    },
    "tags": []
   },
   "source": [
    "#### ROC curves\n",
    "\n",
    "+ The measures covered above require a binary diagnostic value. Typically our ML algorithms give a range.\n",
    "+ Often 50% (estimated more likely than not) is not a reasonable cutoff.\n",
    "+ ROC curves consider the sensitivity and 1-specificity; i.e. the true positive and false positive rate, for all possible cutoffs"
   ]
  },
  {
   "cell_type": "code",
   "execution_count": 8,
   "id": "8c42740b-8d03-4bc4-a652-1a55e248497b",
   "metadata": {
    "slideshow": {
     "slide_type": "subslide"
    },
    "tags": []
   },
   "outputs": [
    {
     "data": {
      "text/html": [
       "<div>\n",
       "<style scoped>\n",
       "    .dataframe tbody tr th:only-of-type {\n",
       "        vertical-align: middle;\n",
       "    }\n",
       "\n",
       "    .dataframe tbody tr th {\n",
       "        vertical-align: top;\n",
       "    }\n",
       "\n",
       "    .dataframe thead th {\n",
       "        text-align: right;\n",
       "    }\n",
       "</style>\n",
       "<table border=\"1\" class=\"dataframe\">\n",
       "  <thead>\n",
       "    <tr style=\"text-align: right;\">\n",
       "      <th></th>\n",
       "      <th>FLAIR</th>\n",
       "      <th>GOLD_Lesions</th>\n",
       "    </tr>\n",
       "  </thead>\n",
       "  <tbody>\n",
       "    <tr>\n",
       "      <th>0</th>\n",
       "      <td>1.143692</td>\n",
       "      <td>0</td>\n",
       "    </tr>\n",
       "    <tr>\n",
       "      <th>1</th>\n",
       "      <td>1.652552</td>\n",
       "      <td>0</td>\n",
       "    </tr>\n",
       "    <tr>\n",
       "      <th>2</th>\n",
       "      <td>1.036099</td>\n",
       "      <td>0</td>\n",
       "    </tr>\n",
       "    <tr>\n",
       "      <th>3</th>\n",
       "      <td>1.037692</td>\n",
       "      <td>0</td>\n",
       "    </tr>\n",
       "    <tr>\n",
       "      <th>4</th>\n",
       "      <td>1.580589</td>\n",
       "      <td>0</td>\n",
       "    </tr>\n",
       "  </tbody>\n",
       "</table>\n",
       "</div>"
      ],
      "text/plain": [
       "      FLAIR  GOLD_Lesions\n",
       "0  1.143692             0\n",
       "1  1.652552             0\n",
       "2  1.036099             0\n",
       "3  1.037692             0\n",
       "4  1.580589             0"
      ]
     },
     "execution_count": 8,
     "metadata": {},
     "output_type": "execute_result"
    }
   ],
   "source": [
    "import pandas as pd\n",
    "dat = pd.read_csv(\"https://raw.githubusercontent.com/bcaffo\"\\\n",
    "    \"/ds4bme_intro/master/data/oasis.csv\")\n",
    "dat[ ['FLAIR', 'GOLD_Lesions'] ].head()"
   ]
  },
  {
   "cell_type": "code",
   "execution_count": 14,
   "id": "d2f3e94b-641e-4897-8500-ce454d5e03fb",
   "metadata": {
    "slideshow": {
     "slide_type": "subslide"
    },
    "tags": []
   },
   "outputs": [
    {
     "data": {
      "image/png": "[encoded data removed]",
      "text/plain": [
       "<Figure size 432x288 with 1 Axes>"
      ]
     },
     "metadata": {},
     "output_type": "display_data"
    }
   ],
   "source": [
    "import seaborn as sns\n",
    "import matplotlib.pyplot as plt\n",
    "sns.set()\n",
    "x0 = dat['FLAIR'][dat['GOLD_Lesions'] == 0]\n",
    "x1 = dat['FLAIR'][dat['GOLD_Lesions'] == 1]\n",
    "sns.kdeplot(x0, shade = True, label = 'Gold Std = 0')\n",
    "sns.kdeplot(x1, shade = True, label = 'Gold Std = 1')\n",
    "plt.show();"
   ]
  },
  {
   "cell_type": "markdown",
   "id": "46ad3543-6d3e-42cc-90c9-500df2f13697",
   "metadata": {
    "slideshow": {
     "slide_type": "subslide"
    },
    "tags": []
   },
   "source": [
    "#### The ROC curve\n",
    "+ Consider a given FLAIR threshold, say $c$. \n",
    "+ The true positive rate given that threshold is $T(c) = P(X \\geq c ~|~ Y=1)$ \n",
    "+ The false positive rate is $F(c) = P(X \\geq c~|~ Y=0 )$. \n",
    "+ The function $f\\rightarrow T\\{F^{-1}(f)\\}$ is the ROC curve.\n",
    "+ The ROC curve is typically displayed in the plot: $(f, T\\{F^{-1}(f)\\})$\n",
    "+ An empirical estimate of the ROC curve requires empirical estimates of $T$ and $F$ which can be done non-parametrically or parametrically. \n"
   ]
  },
  {
   "cell_type": "markdown",
   "id": "3f2a6a67-218d-498f-b985-a5bbd1489864",
   "metadata": {
    "slideshow": {
     "slide_type": "subslide"
    },
    "tags": []
   },
   "source": [
    "#### The ROC curve satisfies:\n",
    "\n",
    "1. Always starts at the point (0, 0). \n",
    "2. Always ends at the point (1, 1).  \n",
    "3. Is monotonically increasing (always moves laterally or upward).\n",
    "4. A uniformly better ROC curve lies entirely above a worse ROC curve. T\n",
    "5. Is always worse than the theoretical limt of the ROC curve, the upper part of the box at the points (0, 0), (0, 1), (1, 1).  \n",
    "6. If the prediction value is a random uniform number indpendent of the gold standard, the ROC curve is the identity line from (0, 0) to (1, 1). \n",
    "7. The ROC curve is invariant to strictly increasing monotonic transformations of the predictor. \n",
    "8. The ROC curve is an identity line whenever the prediction is independent of the gold standard provided the prediction is continuous. \n",
    "9. The ROC curve for a prediction as a test for one minus the golad standard flips the ROC curve over the identity line."
   ]
  },
  {
   "cell_type": "markdown",
   "id": "c774f8e9-0a7f-49f2-a831-353c7b47101e",
   "metadata": {
    "slideshow": {
     "slide_type": "subslide"
    },
    "tags": []
   },
   "source": [
    "#### Non-parametric estimation\n",
    "\n",
    "We can estimate these probabilities using the fraction of times a FLAIR values is above the threshold in the two gold standard groups\n",
    "\n",
    "$$\n",
    "\\hat T(c)\n",
    "= \\frac{1}{|\\Gamma_1|} \\sum_{i \\in \\Gamma_1} I(x_i \\geq c)\n",
    "$$\n",
    "\n",
    "$$\n",
    "\\hat F(c)\n",
    "= \\frac{1}{|\\Gamma_0|} \\sum_{i \\in \\Gamma_0} I(x_i \\geq c)\n",
    "$$\n",
    "\n",
    "where $\\Gamma_1 = \\{i ~|~ y_i = 1\\}$ and $\\Gamma_0 = \\{i ~|~ y_i = 0\\}$."
   ]
  },
  {
   "cell_type": "code",
   "execution_count": 17,
   "id": "159bcfeb-c13a-4245-87f9-a1c5c6b02d65",
   "metadata": {
    "slideshow": {
     "slide_type": "subslide"
    },
    "tags": []
   },
   "outputs": [
    {
     "data": {
      "image/png": "[encoded data removed]",
      "text/plain": [
       "<Figure size 432x288 with 1 Axes>"
      ]
     },
     "metadata": {},
     "output_type": "display_data"
    }
   ],
   "source": [
    "import numpy as np\n",
    "x = dat['FLAIR']; y = dat['GOLD_Lesions']\n",
    "c = np.concatenate( [[ np.min(x) - 1], np.sort(np.unique(x)) \n",
    "                     , [np.max(x) + 1]])\n",
    "tpr = [np.mean( (x1 >= citer) ) for citer in c]\n",
    "fpr = [np.mean( (x0 >= citer) ) for citer in c]\n",
    "plt.plot(fpr, tpr);\n",
    "plt.plot([0,1], [0,1]);"
   ]
  },
  {
   "cell_type": "markdown",
   "id": "74e25a3d-8df7-467e-a124-1e023405f07e",
   "metadata": {
    "slideshow": {
     "slide_type": "subslide"
    },
    "tags": []
   },
   "source": [
    "#### Binormal estimation\n",
    "\n",
    "+ We could also assume distributional forms for $T$ and $F$ \n",
    "+ For example, suppose $X ~|~ Y=y \\sim N(\\mu_y, \\sigma_y^2)$. \n",
    "+ Then, note if $\\Phi$ is the standard normal distribution function then \n",
    "$$T(c) = 1 - \\Phi\\{ (c - \\mu_1) / \\sigma_1 \\}$$ \n",
    "$$F(c) = 1 - \\Phi\\{ (c - \\mu_0) / \\sigma_0 \\}$$ \n",
    "$$F^{-1}(f) = \\mu_0 + \\sigma_0 \\Phi^{-1}(1-f)$$ \n",
    "+ Thus, the ROC curve is \n",
    "$$\n",
    "T\\{F^{-1}(f)\\} = 1 - \\Phi\\left\\{  \\frac{\\mu_0 -\\mu_1}{\\sigma_1} + \\frac{\\sigma_0}{{\\sigma_1}} \\Phi^{-1}(1-f) \\right\\}\n",
    "$$\n",
    "where $\\mu_y$ and $\\sigma_y$ can be estimated from the data.\n"
   ]
  },
  {
   "cell_type": "code",
   "execution_count": 20,
   "id": "0aa86fc7-bd7b-45fc-9819-d344bb47bc32",
   "metadata": {
    "slideshow": {
     "slide_type": "subslide"
    },
    "tags": []
   },
   "outputs": [
    {
     "data": {
      "image/png": "[encoded data removed]",
      "text/plain": [
       "<Figure size 432x288 with 1 Axes>"
      ]
     },
     "metadata": {},
     "output_type": "display_data"
    }
   ],
   "source": [
    "from scipy.stats import norm\n",
    "\n",
    "mu0, mu1 = np.mean(x0), np.mean(x1)\n",
    "s0, s1 = np.std(x0), np.std(x1)\n",
    "c_seq = np.linspace(0, 3, 1000)\n",
    "\n",
    "fpr_binorm = 1-norm.cdf(c_seq, mu0, s0)\n",
    "tpr_binorm = 1-norm.cdf(c_seq, mu1, s1)\n",
    "\n",
    "plt.plot(fpr, tpr)\n",
    "plt.plot([0,1], [0,1]);\n",
    "plt.plot(fpr_binorm, tpr_binorm);"
   ]
  },
  {
   "cell_type": "markdown",
   "id": "29abb06b-aa8a-45de-9e36-380f7dfe802c",
   "metadata": {
    "slideshow": {
     "slide_type": "subslide"
    },
    "tags": []
   },
   "source": [
    "#### AUC\n",
    "+ The area under the ROC curve is given by\n",
    "$$\n",
    "AUC = \\int_0^1 T\\{F^{-1}(f)\\}df.\n",
    "$$\n",
    "+ The ideal test has AUC = 1\n",
    "+ A completely uniformative test has AUC = 0.5\n",
    "+ An informatively bad test has ROC < 0.5.  \n",
    "+ The AUC has a nice interpretation. Let $X_1 \\sim 1-T$ and $X_0 \\sim 1-F$ independent random values. Then \n",
    "$$\n",
    "AUC = P(X_1 > X_0)\n",
    "$$\n",
    "+ It can be shown that the Wilcoxon Rank Sum Test is a test of $AUC=0.5$"
   ]
  },
  {
   "cell_type": "code",
   "execution_count": 25,
   "id": "bb3d0049-519f-471d-a9f5-da83dac4b3da",
   "metadata": {
    "slideshow": {
     "slide_type": "subslide"
    },
    "tags": []
   },
   "outputs": [
    {
     "name": "stdout",
     "output_type": "stream",
     "text": [
      "0.7588\n",
      "0.7587999999999999\n"
     ]
    }
   ],
   "source": [
    "## Calculating AUC directly as the faction of instances where X1 > X0\n",
    "auc = np.sum([j >= i for i in x0 for j in x1]) / (len(x0) * len(x1))\n",
    "print(auc)\n",
    "\n",
    "## using sKlearn\n",
    "from sklearn.metrics import roc_curve, auc\n",
    "fpr, tpr, thresholds = roc_curve(y, x)\n",
    "print(auc(fpr, tpr))"
   ]
  },
  {
   "cell_type": "markdown",
   "id": "8092871f-4811-4cca-a198-bab9a094fc30",
   "metadata": {
    "slideshow": {
     "slide_type": "subslide"
    },
    "tags": []
   },
   "source": [
    "### Binormal AUC\n",
    "\n",
    "$$X_1 - X_0 \\sim N(\\mu_0 - \\mu_1, \\sqrt{\\sigma_0^2 + \\sigma_1^2})$$\n",
    "\n",
    "We can just directly calculate \n",
    "\n",
    "$$P(X_1 > X_0) = P(X_0 - X_1 < 0)$$"
   ]
  },
  {
   "cell_type": "code",
   "execution_count": 31,
   "id": "cc6badf1-2b60-4f99-bf78-936dafd09bc9",
   "metadata": {},
   "outputs": [
    {
     "data": {
      "text/plain": [
       "0.766401836491996"
      ]
     },
     "execution_count": 31,
     "metadata": {},
     "output_type": "execute_result"
    }
   ],
   "source": [
    "import scipy.stats as stats\n",
    "stats.norm.cdf(0, loc = mu0 - mu1, scale = np.sqrt(s0**2 + s1**2))"
   ]
  }
 ],
 "metadata": {
  "kernelspec": {
   "display_name": "Python [conda env:.conda-ds4bio]",
   "language": "python",
   "name": "conda-env-.conda-ds4bio-py"
  },
  "language_info": {
   "codemirror_mode": {
    "name": "ipython",
    "version": 3
   },
   "file_extension": ".py",
   "mimetype": "text/x-python",
   "name": "python",
   "nbconvert_exporter": "python",
   "pygments_lexer": "ipython3",
   "version": "3.10.4"
  }
 },
 "nbformat": 4,
 "nbformat_minor": 5
}
