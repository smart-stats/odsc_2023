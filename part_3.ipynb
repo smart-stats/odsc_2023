{
 "cells": [
  {
   "cell_type": "markdown",
   "id": "80e6d90a-38d8-4a75-9fb9-4637e47ec536",
   "metadata": {
    "slideshow": {
     "slide_type": "slide"
    },
    "tags": []
   },
   "source": [
    "# Statistics for data science and measurement\n",
    "## Babak Moghadas 1 and Brian Caffo 1, 2\n",
    "### 1 Department of Biostatistics \n",
    "### 2 Department of Biomedical Engineering\n",
    "### Bloomberg School of Public Health\n",
    "### Johns Hopkins University"
   ]
  },
  {
   "cell_type": "markdown",
   "id": "ae7dbfc9-a6b9-485b-9396-844dd473d820",
   "metadata": {
    "slideshow": {
     "slide_type": "subslide"
    },
    "tags": []
   },
   "source": [
    "## About these slides\n",
    "\n",
    "+ Goal is the least that you need to know\n",
    "+ All slides are created in Jupyter notebooks - free to use and open source\n",
    "+ [Github repo](https://github.com/smart-stats/odsc_2023)\n",
    "+ [pyglide](https://pypi.org/project/pyglide/) provides the interactivity"
   ]
  },
  {
   "cell_type": "markdown",
   "id": "be399fab-4e3d-46dd-b2ab-5329ccad4fa9",
   "metadata": {},
   "source": [
    "## Part 3 validation"
   ]
  }
 ],
 "metadata": {
  "kernelspec": {
   "display_name": "Python [conda env:.conda-ds4bio]",
   "language": "python",
   "name": "conda-env-.conda-ds4bio-py"
  },
  "language_info": {
   "codemirror_mode": {
    "name": "ipython",
    "version": 3
   },
   "file_extension": ".py",
   "mimetype": "text/x-python",
   "name": "python",
   "nbconvert_exporter": "python",
   "pygments_lexer": "ipython3",
   "version": "3.10.4"
  }
 },
 "nbformat": 4,
 "nbformat_minor": 5
}
