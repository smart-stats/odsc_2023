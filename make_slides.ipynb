{
 "cells": [
  {
   "cell_type": "code",
   "execution_count": null,
   "id": "43a468b3-810d-4598-a43a-d24b61c94fd8",
   "metadata": {},
   "outputs": [],
   "source": [
    "from rajas import embeddings as eb"
   ]
  },
  {
   "cell_type": "code",
   "execution_count": null,
   "id": "f1cdf27d-3e68-42bc-acc6-4aa822be9d56",
   "metadata": {},
   "outputs": [],
   "source": [
    "eb.embed_audio('02_github.ipynb')"
   ]
  },
  {
   "cell_type": "code",
   "execution_count": 3,
   "id": "b7f15da4-b6dd-4830-a83b-52a9bfcd504f",
   "metadata": {},
   "outputs": [
    {
     "name": "stdout",
     "output_type": "stream",
     "text": [
      "[NbConvertApp] Converting notebook part_1.ipynb to slides\n",
      "[NbConvertApp] Writing 683658 bytes to part_1.slides.html\n"
     ]
    }
   ],
   "source": [
    "!jupyter nbconvert part_1.ipynb --to slides --SlidesExporter.reveal_theme=solarized"
   ]
  }
 ],
 "metadata": {
  "kernelspec": {
   "display_name": "Python [conda env:.conda-ds4bio]",
   "language": "python",
   "name": "conda-env-.conda-ds4bio-py"
  },
  "language_info": {
   "codemirror_mode": {
    "name": "ipython",
    "version": 3
   },
   "file_extension": ".py",
   "mimetype": "text/x-python",
   "name": "python",
   "nbconvert_exporter": "python",
   "pygments_lexer": "ipython3",
   "version": "3.10.4"
  }
 },
 "nbformat": 4,
 "nbformat_minor": 5
}
