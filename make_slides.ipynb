{
 "cells": [
  {
   "cell_type": "code",
   "execution_count": null,
   "id": "43a468b3-810d-4598-a43a-d24b61c94fd8",
   "metadata": {},
   "outputs": [],
   "source": [
    "!pip install pyglide"
   ]
  },
  {
   "cell_type": "code",
   "execution_count": 8,
   "id": "f1cdf27d-3e68-42bc-acc6-4aa822be9d56",
   "metadata": {},
   "outputs": [
    {
     "name": "stdout",
     "output_type": "stream",
     "text": [
      "[NbConvertApp] Converting notebook part_1_tmp.ipynb to slides\n",
      "[NbConvertApp] Writing 791256 bytes to part_1_tmp.slides.html\n"
     ]
    }
   ],
   "source": [
    "!pyglide part_1"
   ]
  },
  {
   "cell_type": "code",
   "execution_count": 4,
   "id": "e08d2aa7",
   "metadata": {},
   "outputs": [
    {
     "name": "stdout",
     "output_type": "stream",
     "text": [
      "[NbConvertApp] Converting notebook part_2_tmp.ipynb to slides\n",
      "[NbConvertApp] Writing 713686 bytes to part_2_tmp.slides.html\n"
     ]
    }
   ],
   "source": [
    "!pyglide part_2"
   ]
  },
  {
   "cell_type": "code",
   "execution_count": 6,
   "id": "25039849",
   "metadata": {},
   "outputs": [
    {
     "name": "stdout",
     "output_type": "stream",
     "text": [
      "[NbConvertApp] Converting notebook part_3_tmp.ipynb to slides\n",
      "[NbConvertApp] Writing 700932 bytes to part_3_tmp.slides.html\n"
     ]
    }
   ],
   "source": [
    "!pyglide part_3"
   ]
  }
 ],
 "metadata": {
  "kernelspec": {
   "display_name": "Text2Speech",
   "language": "python",
   "name": "python3"
  },
  "language_info": {
   "codemirror_mode": {
    "name": "ipython",
    "version": 3
   },
   "file_extension": ".py",
   "mimetype": "text/x-python",
   "name": "python",
   "nbconvert_exporter": "python",
   "pygments_lexer": "ipython3",
   "version": "3.11.2"
  }
 },
 "nbformat": 4,
 "nbformat_minor": 5
}
